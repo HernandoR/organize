{
 "cells": [
  {
   "cell_type": "code",
   "execution_count": 1,
   "metadata": {},
   "outputs": [],
   "source": [
    "from hachoir.metadata import extractMetadata\n",
    "from hachoir.parser import createParser\n",
    "from pathlib import Path\n",
    "from collections import defaultdict, deque\n",
    "from prettyprinter import pprint"
   ]
  },
  {
   "cell_type": "code",
   "execution_count": 2,
   "metadata": {},
   "outputs": [],
   "source": [
    "test_file = Path(\"../resources/images-with-exif/1.jpg\")"
   ]
  },
  {
   "cell_type": "code",
   "execution_count": 3,
   "metadata": {},
   "outputs": [
    {
     "name": "stderr",
     "output_type": "stream",
     "text": [
      "[warn] [/exif/content/ifd[0]] [Autofix] Fix parser error: stop parser, found unparsed segment: start 1368, length 8\n",
      "[warn] [/exif/content/exif[0]] [Autofix] Fix parser error: stop parser, found unparsed segment: start 5848, length 8\n",
      "[warn] Skip IPTC key 63: 185246\n",
      "[warn] Skip IPTC key 62: 20180929\n"
     ]
    }
   ],
   "source": [
    "filePath = test_file\n",
    "parser = createParser(str(filePath))\n",
    "if not parser:\n",
    "    print(f\"qtff: Unable to parse file {filePath}\")\n",
    "    \n",
    "with parser:\n",
    "    try:\n",
    "        qtffTags = extractMetadata(parser)\n",
    "    except Exception as err:\n",
    "        print(\"Metadata extraction error: %s\" % err)\n",
    "        qtffTags = None\n",
    "        "
   ]
  },
  {
   "cell_type": "code",
   "execution_count": 13,
   "metadata": {},
   "outputs": [],
   "source": [
    "class Object(object):\n",
    "    pass\n",
    "\n",
    "self=Object()\n",
    "self.args=[\"Metadata.Pixel format\"]"
   ]
  },
  {
   "cell_type": "code",
   "execution_count": 16,
   "metadata": {},
   "outputs": [],
   "source": [
    "def deep_search(base: dict, query: list):\n",
    "    for key in query:\n",
    "        if not isinstance(base,dict):\n",
    "            # while query is not empty, base is not a dict\n",
    "            return None\n",
    "        if key not in base:\n",
    "            # query not exists in base\n",
    "            return None\n",
    "        base = base[key]\n",
    "        \n",
    "    return base"
   ]
  },
  {
   "cell_type": "code",
   "execution_count": 19,
   "metadata": {},
   "outputs": [],
   "source": [
    "\n",
    "def matches(self, qtffTags: dict) -> bool:\n",
    "    if not qtffTags:\n",
    "        return False\n",
    "    for arg in self.args:\n",
    "        qLayers = arg.split(\".\")\n",
    "        qValue = deep_search(qtffTags, qLayers)\n",
    "        if not qValue:\n",
    "            return False\n",
    "        if not isinstance(qValue, str):\n",
    "            return False\n",
    "    return True\n",
    "                "
   ]
  },
  {
   "cell_type": "code",
   "execution_count": 27,
   "metadata": {},
   "outputs": [
    {
     "ename": "TypeError",
     "evalue": "'Environment' object is not callable",
     "output_type": "error",
     "traceback": [
      "\u001b[0;31m---------------------------------------------------------------------------\u001b[0m",
      "\u001b[0;31mTypeError\u001b[0m                                 Traceback (most recent call last)",
      "\u001b[1;32m/Users/lz/Codes/organize/tests/filters/draft_qtff.ipynb 单元格 7\u001b[0m line \u001b[0;36m1\n\u001b[1;32m     <a href='vscode-notebook-cell:/Users/lz/Codes/organize/tests/filters/draft_qtff.ipynb#W3sZmlsZQ%3D%3D?line=15'>16</a>\u001b[0m \u001b[39m# pprint(qtfftags)\u001b[39;00m\n\u001b[1;32m     <a href='vscode-notebook-cell:/Users/lz/Codes/organize/tests/filters/draft_qtff.ipynb#W3sZmlsZQ%3D%3D?line=16'>17</a>\u001b[0m \u001b[39m# matches(self, qtfftags)\u001b[39;00m\n\u001b[1;32m     <a href='vscode-notebook-cell:/Users/lz/Codes/organize/tests/filters/draft_qtff.ipynb#W3sZmlsZQ%3D%3D?line=17'>18</a>\u001b[0m pttn \u001b[39m=\u001b[39m\u001b[39m\"\u001b[39m\u001b[39mMetadata.\u001b[39m\u001b[39m'\u001b[39m\u001b[39mCamera model\u001b[39m\u001b[39m'\u001b[39m\u001b[39m\"\u001b[39m\n\u001b[0;32m---> <a href='vscode-notebook-cell:/Users/lz/Codes/organize/tests/filters/draft_qtff.ipynb#W3sZmlsZQ%3D%3D?line=18'>19</a>\u001b[0m Template(pttn)\u001b[39m.\u001b[39mrender(qtfftags)\n",
      "\u001b[0;31mTypeError\u001b[0m: 'Environment' object is not callable"
     ]
    }
   ],
   "source": [
    "import jinja2\n",
    "def finalize_placeholder(x):\n",
    "    # This is used to make the `path` arg available in the filters and actions.\n",
    "    # If a template uses `path` where no syspath is available this makes it possible\n",
    "    # to raise an exception.\n",
    "    if isinstance(x, Exception):\n",
    "        raise x\n",
    "    return x\n",
    "\n",
    "Template = jinja2.Environment(\n",
    "    variable_start_string=\"{\",\n",
    "    variable_end_string=\"}\",\n",
    "    autoescape=False,\n",
    "    finalize=finalize_placeholder,\n",
    ")\n",
    "qtfftags=qtffTags.exportDictionary()\n",
    "# pprint(qtfftags)\n",
    "# matches(self, qtfftags)\n",
    "pttn =\"Metadata.'Camera model'\"\n",
    "Template(pttn).render(qtfftags)"
   ]
  },
  {
   "cell_type": "code",
   "execution_count": null,
   "metadata": {},
   "outputs": [],
   "source": []
  },
  {
   "cell_type": "code",
   "execution_count": null,
   "metadata": {},
   "outputs": [],
   "source": []
  },
  {
   "cell_type": "code",
   "execution_count": null,
   "metadata": {},
   "outputs": [],
   "source": []
  },
  {
   "cell_type": "code",
   "execution_count": null,
   "metadata": {},
   "outputs": [],
   "source": []
  },
  {
   "cell_type": "code",
   "execution_count": null,
   "metadata": {},
   "outputs": [],
   "source": []
  }
 ],
 "metadata": {
  "kernelspec": {
   "display_name": "organize",
   "language": "python",
   "name": "python3"
  },
  "language_info": {
   "codemirror_mode": {
    "name": "ipython",
    "version": 3
   },
   "file_extension": ".py",
   "mimetype": "text/x-python",
   "name": "python",
   "nbconvert_exporter": "python",
   "pygments_lexer": "ipython3",
   "version": "3.10.13"
  }
 },
 "nbformat": 4,
 "nbformat_minor": 2
}
